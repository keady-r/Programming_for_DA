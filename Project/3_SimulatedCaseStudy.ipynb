{
 "cells": [
  {
   "cell_type": "markdown",
   "id": "3878212c",
   "metadata": {},
   "source": [
    "# A CASE STUDY - Probability Of a Breast Cancer Diagnoisis being Malignant or Benign "
   ]
  },
  {
   "cell_type": "markdown",
   "id": "6d98f8e1",
   "metadata": {},
   "source": [
    "This data simulation is based off the 2020 dataset statistics . "
   ]
  },
  {
   "cell_type": "code",
   "execution_count": 1,
   "id": "a7fcb451",
   "metadata": {},
   "outputs": [],
   "source": [
    "import sys\n",
    "sys.path.insert(1, 'SetUp/')\n",
    "import PackageInstall \n",
    "\n",
    "from PackageInstall import *\n",
    "from Functions import *"
   ]
  },
  {
   "cell_type": "code",
   "execution_count": 2,
   "id": "3b2a5e57",
   "metadata": {},
   "outputs": [],
   "source": [
    "#probability of a cancer being diagnoised as malignant (Proability Determined from research of 2020 dataset. See Jupyter Notebook - '2_BreastCancer_TrendsInBenignAndMalignantCells' for reference )\n",
    "probability = .36\n",
    "#num of patients in the trial\n",
    "n = 100"
   ]
  },
  {
   "cell_type": "code",
   "execution_count": 3,
   "id": "1911995d",
   "metadata": {},
   "outputs": [],
   "source": [
    "diagnosisResults = np.arange(n)"
   ]
  },
  {
   "cell_type": "code",
   "execution_count": 4,
   "id": "fe1acd01",
   "metadata": {},
   "outputs": [],
   "source": [
    "def malignantVsBenign_probability(p):    \n",
    "    #perform the binomial distribution (returns 0 or 1)    \n",
    "    result = np.random.binomial(1,p) \n",
    "       \n",
    "    #return result to be added to the array   \n",
    "    return result"
   ]
  },
  {
   "cell_type": "code",
   "execution_count": 5,
   "id": "b55a00d1",
   "metadata": {},
   "outputs": [],
   "source": [
    "#perform desired numbered of loops at required probability set above\n",
    "for i in range(0, n):    \n",
    "    diagnosisResults[i] = malignantVsBenign_probability(probability)    \n",
    "    i+=1"
   ]
  },
  {
   "cell_type": "code",
   "execution_count": 6,
   "id": "fe7f4af5",
   "metadata": {},
   "outputs": [
    {
     "name": "stdout",
     "output_type": "stream",
     "text": [
      "probability of the cancer being malignant  0.36\n",
      "Benign = 0, Malignant = 1:  [0 0 0 1 0 0 0 1 0 0 0 1 0 0 0 0 1 0 0 0 1 0 1 0 0 1 1 0 0 0 0 0 1 0 0 1 1\n",
      " 0 1 0 1 0 0 1 1 0 1 1 0 0 0 0 1 0 1 0 0 0 0 0 0 0 1 0 0 0 0 1 1 0 0 1 1 1\n",
      " 0 0 0 0 1 0 0 1 0 0 1 0 0 0 1 1 0 0 0 1 0 0 0 0 1 0]\n",
      "Malignant:  32\n",
      "BenignCount:  68\n"
     ]
    }
   ],
   "source": [
    "#print results\n",
    "print(\"probability of the cancer being malignant \", probability)\n",
    "print(\"Benign = 0, Malignant = 1: \", diagnosisResults)\n",
    "print(\"Malignant: \", np.count_nonzero(diagnosisResults == 1))\n",
    "print(\"BenignCount: \", np.count_nonzero(diagnosisResults == 0))"
   ]
  },
  {
   "cell_type": "code",
   "execution_count": 7,
   "id": "8ff6bc17",
   "metadata": {},
   "outputs": [],
   "source": [
    "values = [1, 2, 3, 4, 5, 6]\n",
    "probs = [0.1, 0.2, 0.2, 0.2, 0.2, 0.1]\n",
    "sample = np.random.choice(values, p=probs)"
   ]
  },
  {
   "cell_type": "code",
   "execution_count": 8,
   "id": "601bf046",
   "metadata": {},
   "outputs": [
    {
     "data": {
      "text/plain": [
       "['1.Numpy Probability test https://towardsdatascience.com/how-to-code-a-fair-coin-flip-in-python-d54312f33da9',\n",
       " '2.else ',\n",
       " '3. ',\n",
       " '4. ']"
      ]
     },
     "execution_count": 8,
     "metadata": {},
     "output_type": "execute_result"
    }
   ],
   "source": [
    "ref(\"3_SimulatedCaseStudy\")"
   ]
  },
  {
   "cell_type": "code",
   "execution_count": null,
   "id": "ec5db87e",
   "metadata": {},
   "outputs": [],
   "source": []
  }
 ],
 "metadata": {
  "kernelspec": {
   "display_name": "Python 3 (ipykernel)",
   "language": "python",
   "name": "python3"
  },
  "language_info": {
   "codemirror_mode": {
    "name": "ipython",
    "version": 3
   },
   "file_extension": ".py",
   "mimetype": "text/x-python",
   "name": "python",
   "nbconvert_exporter": "python",
   "pygments_lexer": "ipython3",
   "version": "3.11.0"
  },
  "vscode": {
   "interpreter": {
    "hash": "7909e239a42e9cc8589a8ecc01e067a15a5f27e486af2e18834d27bbb3695144"
   }
  }
 },
 "nbformat": 4,
 "nbformat_minor": 5
}
