{
 "cells": [
  {
   "cell_type": "code",
   "execution_count": 5,
   "id": "39444551",
   "metadata": {},
   "outputs": [],
   "source": [
    "import sys\n",
    "sys.path.insert(1, '../SetUp/')\n",
    "import PackageInstall \n",
    "from PackageInstall import *"
   ]
  },
  {
   "cell_type": "code",
   "execution_count": 10,
   "id": "c6a10b48",
   "metadata": {},
   "outputs": [],
   "source": [
    "all_cancer = pd.read_csv(\"../DataSets/Global cancer incidence both sexes.csv\")"
   ]
  },
  {
   "cell_type": "code",
   "execution_count": 9,
   "id": "684e256a",
   "metadata": {},
   "outputs": [],
   "source": [
    "female = pd.read_csv(\"../DataSets/Global cancer incidence in women.csv\")"
   ]
  },
  {
   "cell_type": "code",
   "execution_count": null,
   "id": "2b91926b",
   "metadata": {},
   "outputs": [],
   "source": [
    "shape(female)\n",
    "describe(female)"
   ]
  },
  {
   "cell_type": "code",
   "execution_count": null,
   "id": "242895ff",
   "metadata": {},
   "outputs": [],
   "source": [
    "male = pd.read_csv(\"../DataSets/Global cancer incidence in men.csv\")\n",
    "male"
   ]
  },
  {
   "cell_type": "code",
   "execution_count": null,
   "id": "3403e92c",
   "metadata": {},
   "outputs": [],
   "source": [
    "def shape(data):\n",
    "    print('='*20,'Dataset Shape','='*20)\n",
    "    print(data.shape)\n",
    "    print('\\n')\n",
    "\n",
    "def info(data):\n",
    "    print('='*20,'Dataset Info','='*20)\n",
    "    print(data.info())\n",
    "    print('\\n')\n",
    "\n",
    "def describe(data):\n",
    "    print('='*20,'Dataset Describe','='*20)\n",
    "    print(data.describe())\n",
    "    print('\\n')\n",
    "    \n"
   ]
  },
  {
   "cell_type": "code",
   "execution_count": null,
   "id": "1f7a4359",
   "metadata": {},
   "outputs": [],
   "source": [
    "\n",
    "img = px.pie(names=all_cancer['Cancer'],\n",
    "            values=all_cancer['% of all cancers'])\n",
    "img.update_layout(paper_bgcolor='rgb(255,255,237)',\n",
    "                 plot_bgcolor='rgb(255,255,102)',\n",
    "                 title={'font':{\n",
    "                             'family':'Calib',\n",
    "                             'size':25,\n",
    "                             'color': 'Black',\n",
    "                         },'text':'Global Cancer Incidence In Both Genders',\n",
    "                        'x':0,'y':1})\n",
    "\n",
    "img.show()\n"
   ]
  },
  {
   "cell_type": "code",
   "execution_count": null,
   "id": "b8742264",
   "metadata": {},
   "outputs": [],
   "source": [
    "\n",
    "#Scatter Plot\n",
    "plt.plot(male['Cancer'], male ['New cases in 2020'], linestyle='none', marker='o', color='blue')\n",
    "plt.xticks(rotation = 90)\n",
    "plt.show()"
   ]
  },
  {
   "cell_type": "code",
   "execution_count": null,
   "id": "eb2fd3f9",
   "metadata": {},
   "outputs": [],
   "source": [
    "#ScatterPlotFemale\n",
    "plt.plot(female['Cancer'], female ['New cases in 2020'], linestyle='none', marker='o', color='red')\n",
    "plt.xticks(rotation = 90)\n",
    "plt.show()"
   ]
  },
  {
   "cell_type": "code",
   "execution_count": null,
   "id": "14e93eb8",
   "metadata": {},
   "outputs": [],
   "source": [
    "#Horizontal BarChart - Males/Females Compare\n",
    "plt.figure(figsize=(10,6))\n",
    "plt.barh(male['Cancer'], male['New cases in 2020'], color =\"blue\", alpha =0.5)\n",
    "plt.barh(female['Cancer'], female['New cases in 2020'], color = \"red\", alpha =0.5)\n",
    "plt.xlabel('Cancer')\n",
    "plt.ylabel('New cases in 2020')\n",
    "plt.title(\"Cancer in Men(Blue), Women (Red)\")\n",
    "plt.show()"
   ]
  },
  {
   "cell_type": "code",
   "execution_count": null,
   "id": "3025bd37",
   "metadata": {},
   "outputs": [],
   "source": [
    "shape(male)\n",
    "info(male)\n",
    "describe(male)"
   ]
  },
  {
   "cell_type": "code",
   "execution_count": null,
   "id": "150393a0",
   "metadata": {},
   "outputs": [],
   "source": [
    "\n",
    "ref(\"2_BreastCancer_TrendsInBenignAndMalignantCel4ls1\")"
   ]
  },
  {
   "cell_type": "code",
   "execution_count": null,
   "id": "fe7aadc8",
   "metadata": {},
   "outputs": [],
   "source": []
  },
  {
   "cell_type": "code",
   "execution_count": null,
   "id": "75c74157",
   "metadata": {},
   "outputs": [],
   "source": []
  },
  {
   "cell_type": "code",
   "execution_count": null,
   "id": "4dcc8878",
   "metadata": {},
   "outputs": [],
   "source": []
  },
  {
   "cell_type": "code",
   "execution_count": null,
   "id": "de8fd4bd",
   "metadata": {},
   "outputs": [],
   "source": []
  }
 ],
 "metadata": {
  "kernelspec": {
   "display_name": "Python 3 (ipykernel)",
   "language": "python",
   "name": "python3"
  },
  "language_info": {
   "codemirror_mode": {
    "name": "ipython",
    "version": 3
   },
   "file_extension": ".py",
   "mimetype": "text/x-python",
   "name": "python",
   "nbconvert_exporter": "python",
   "pygments_lexer": "ipython3",
   "version": "3.11.0"
  },
  "vscode": {
   "interpreter": {
    "hash": "7909e239a42e9cc8589a8ecc01e067a15a5f27e486af2e18834d27bbb3695144"
   }
  }
 },
 "nbformat": 4,
 "nbformat_minor": 5
}
