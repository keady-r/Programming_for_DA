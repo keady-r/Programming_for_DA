{
 "cells": [
  {
   "cell_type": "markdown",
   "id": "3878212c",
   "metadata": {},
   "source": [
    "# A CASE STUDY "
   ]
  },
  {
   "cell_type": "markdown",
   "id": "d56813c5",
   "metadata": {},
   "source": [
    "## Probability of a Breast Cancer Diagnoisis being Malignant or Benign"
   ]
  },
  {
   "cell_type": "markdown",
   "id": "6d98f8e1",
   "metadata": {},
   "source": [
    "The objective of this case study is to estimate the probability of a result of a breast cancer diagnosis being malignant or benign. This data simulation is based off the 2020 dataset statistics. "
   ]
  },
  {
   "cell_type": "code",
   "execution_count": 1,
   "id": "a7fcb451",
   "metadata": {},
   "outputs": [],
   "source": [
    "import sys\n",
    "sys.path.insert(1, 'SetUp/')\n",
    "import PackageInstall \n",
    "\n",
    "from PackageInstall import *\n",
    "from Functions import *"
   ]
  },
  {
   "cell_type": "code",
   "execution_count": 2,
   "id": "24fccb09",
   "metadata": {},
   "outputs": [
    {
     "name": "stdout",
     "output_type": "stream",
     "text": [
      "The Probability is: 0.37\n"
     ]
    }
   ],
   "source": [
    "#Probability of the cancer being malignant based of data in 2_BreastCancer_TrendsInBenignAndMalignantCells. Refer to Dataset Describe table for figure\n",
    "getProbability(211, 568)"
   ]
  },
  {
   "cell_type": "code",
   "execution_count": 3,
   "id": "3b2a5e57",
   "metadata": {},
   "outputs": [],
   "source": [
    "probability = .37\n",
    "#num of patients in the trial\n",
    "n = 100"
   ]
  },
  {
   "cell_type": "code",
   "execution_count": 4,
   "id": "1911995d",
   "metadata": {},
   "outputs": [],
   "source": [
    "diagnosisResults = np.arange(n)"
   ]
  },
  {
   "cell_type": "code",
   "execution_count": 5,
   "id": "fe1acd01",
   "metadata": {},
   "outputs": [],
   "source": [
    "def malignantVsBenign_probability(p):    \n",
    "    #perform the binomial distribution (returns 0 or 1)    \n",
    "    result = np.random.binomial(1,p) \n",
    "       \n",
    "    #return result to be added to the array   \n",
    "    return result"
   ]
  },
  {
   "cell_type": "code",
   "execution_count": 6,
   "id": "b55a00d1",
   "metadata": {},
   "outputs": [],
   "source": [
    "#perform desired numbered of loops at required probability set above\n",
    "for i in range(0, n):    \n",
    "    diagnosisResults[i] = malignantVsBenign_probability(probability)    \n",
    "    i+=1"
   ]
  },
  {
   "cell_type": "code",
   "execution_count": 7,
   "id": "fe7f4af5",
   "metadata": {},
   "outputs": [
    {
     "name": "stdout",
     "output_type": "stream",
     "text": [
      "probability of the cancer being malignant  0.37\n",
      "Benign = 0, Malignant = 1:  [0 0 1 0 0 0 1 0 1 0 1 0 0 0 0 0 0 1 1 1 0 0 0 0 1 1 1 0 0 1 0 0 1 0 0 1 0\n",
      " 0 0 0 0 1 0 0 1 0 1 0 1 0 1 1 0 1 0 1 0 1 0 0 1 0 0 1 0 0 0 1 1 0 0 1 1 0\n",
      " 1 1 0 1 0 0 1 0 1 1 0 0 0 1 1 0 0 0 1 0 1 1 1 0 1 1]\n",
      "Malignant:  42\n",
      "BenignCount:  58\n"
     ]
    }
   ],
   "source": [
    "#print results\n",
    "print(\"probability of the cancer being malignant \", probability)\n",
    "print(\"Benign = 0, Malignant = 1: \", diagnosisResults)\n",
    "print(\"Malignant: \", np.count_nonzero(diagnosisResults == 1))\n",
    "print(\"BenignCount: \", np.count_nonzero(diagnosisResults == 0))"
   ]
  },
  {
   "cell_type": "markdown",
   "id": "da030fd1",
   "metadata": {},
   "source": [
    "#### Conclusion"
   ]
  },
  {
   "cell_type": "markdown",
   "id": "93a00dcc",
   "metadata": {},
   "source": [
    "Within this project trending data was synthesised to evaluate the real world phenomon of cancer. The project used multiple python packages such as matplotlib, pandas, numpy, seaborn etc to evaluate the global trends in cancer. From this evaluation it became appearent that breast cancer was the leading cause of cancer and from here a deeper dive into this specific disease revealed correlations and relationships between several parameters between malignant and benign tumors such as radius, area, perimeter, smoothness, compactness, concavity, and symmetry. Finally, a case study was simulated to determine the likelihood of the cancer diagnosis being malignant or benign.  "
   ]
  },
  {
   "cell_type": "code",
   "execution_count": 8,
   "id": "601bf046",
   "metadata": {},
   "outputs": [
    {
     "data": {
      "text/plain": [
       "['=========================',\n",
       " '1. BACKGROUND ON TOPIC   ',\n",
       " '=========================',\n",
       " '2.     FUNCTIONALITY     ',\n",
       " '=========================',\n",
       " '2.1.Numpy Probability test https://towardsdatascience.com/how-to-code-a-fair-coin-flip-in-python-d54312f33da9',\n",
       " '=========================',\n",
       " '3. CLEAN-CODE PRACTICES  ',\n",
       " '=========================',\n",
       " '3.1. Solid Principle - https://www.freecodecamp.org/news/solid-principles-explained-in-plain-english/#:~:text=The%20SOLID%20Principles%20are%20five,and%20software%20architecture%20in%20general.',\n",
       " '',\n",
       " '3.2. Clean Code - A HandBook of Agile Software Carftmanship. Robert C Martin page 136. ']"
      ]
     },
     "execution_count": 8,
     "metadata": {},
     "output_type": "execute_result"
    }
   ],
   "source": [
    "ref(\"3_SimulatedCaseStudy\")"
   ]
  }
 ],
 "metadata": {
  "kernelspec": {
   "display_name": "Python 3 (ipykernel)",
   "language": "python",
   "name": "python3"
  },
  "language_info": {
   "codemirror_mode": {
    "name": "ipython",
    "version": 3
   },
   "file_extension": ".py",
   "mimetype": "text/x-python",
   "name": "python",
   "nbconvert_exporter": "python",
   "pygments_lexer": "ipython3",
   "version": "3.11.0"
  },
  "vscode": {
   "interpreter": {
    "hash": "7909e239a42e9cc8589a8ecc01e067a15a5f27e486af2e18834d27bbb3695144"
   }
  }
 },
 "nbformat": 4,
 "nbformat_minor": 5
}
